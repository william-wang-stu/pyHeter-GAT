{
 "cells": [
  {
   "cell_type": "code",
   "execution_count": 1,
   "metadata": {},
   "outputs": [
    {
     "data": {
      "text/plain": [
       "'2.2.1+cu121'"
      ]
     },
     "execution_count": 1,
     "metadata": {},
     "output_type": "execute_result"
    }
   ],
   "source": [
    "import torch\n",
    "\n",
    "torch.__version__"
   ]
  },
  {
   "cell_type": "code",
   "execution_count": null,
   "metadata": {},
   "outputs": [],
   "source": [
    "data = '''\n",
    "3.25*\t6.56*\t2.48\t16.32*\t2.95*\t23.65\t3.07*\n",
    "2.74\t5.57\t2.03\t14.37\t2.46\t21.27\t2.56\n",
    "2.61\t5.14\t1.89\t13.07\t2.25\t19.68\t2.41\n",
    "2.02\t4.03\t1.46\t10.13\t1.79\t15.81\t1.86\n",
    "'''\n",
    "\n"
   ]
  },
  {
   "cell_type": "code",
   "execution_count": 4,
   "metadata": {},
   "outputs": [],
   "source": [
    "import pickle\n",
    "\n",
    "filepath = \"/remote-home/share/dmb_nas/wangzejian/HeterGAT/Weibo-Aminer/\"\n",
    "filepath2 = \"/remote-home/share/dmb_nas/wangzejian/HeterGAT/Twitter-Huangxin/sub10000/\"\n",
    "\n",
    "def dump(filepath):\n",
    "    names = [\"u2idx.data\", \"train.data\", \"valid.data\", \"test.data\"]\n",
    "    for name in names:\n",
    "        with open(filepath + name, \"rb\") as f:\n",
    "            data = pickle.load(f)\n",
    "        with open(filepath + \"{}2\".format(name), \"wb\") as f:\n",
    "            pickle.dump(data, f, protocol=2)\n",
    "\n",
    "# dump(filepath)\n",
    "dump(filepath2)"
   ]
  },
  {
   "cell_type": "code",
   "execution_count": 4,
   "metadata": {},
   "outputs": [
    {
     "data": {
      "text/plain": [
       "array([[0.2, 0.8]])"
      ]
     },
     "execution_count": 4,
     "metadata": {},
     "output_type": "execute_result"
    }
   ],
   "source": [
    "import numpy as np\n",
    "pred = np.array([0.8, 0.2])\n",
    "\n",
    "c = np.array([[elem, 1.0-elem] for elem in pred])\n",
    "c[1:2]"
   ]
  }
 ],
 "metadata": {
  "kernelspec": {
   "display_name": "pyHeter-GAT-_-uOEIOh",
   "language": "python",
   "name": "python3"
  },
  "language_info": {
   "codemirror_mode": {
    "name": "ipython",
    "version": 3
   },
   "file_extension": ".py",
   "mimetype": "text/x-python",
   "name": "python",
   "nbconvert_exporter": "python",
   "pygments_lexer": "ipython3",
   "version": "3.8.18"
  }
 },
 "nbformat": 4,
 "nbformat_minor": 2
}
