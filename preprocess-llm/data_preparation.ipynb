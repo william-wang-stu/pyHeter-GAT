{
 "cells": [
  {
   "cell_type": "code",
   "execution_count": 1,
   "metadata": {},
   "outputs": [
    {
     "name": "stderr",
     "output_type": "stream",
     "text": [
      "/root/.local/share/virtualenvs/pyHeter-GAT-_-uOEIOh/lib/python3.8/site-packages/tqdm/auto.py:21: TqdmWarning: IProgress not found. Please update jupyter and ipywidgets. See https://ipywidgets.readthedocs.io/en/stable/user_install.html\n",
      "  from .autonotebook import tqdm as notebook_tqdm\n"
     ]
    }
   ],
   "source": [
    "import pickle\n",
    "\n",
    "filepath = \"/remote-home/share/dmb_nas/wangzejian/HeterGAT/Twitter-Huangxin/sub10000/topic_llm_ppx/topic_diffusion_graph_full_windowsize7.data\"\n",
    "# filepath = \"/remote-home/share/dmb_nas/wangzejian/HeterGAT/Twitter-Huangxin/sub10000/topic_llm2/topic_diffusion_graph_full_windowsize7.data\"\n",
    "\n",
    "def read_data(filepath):\n",
    "    with open(filepath, 'rb') as f:\n",
    "        data = pickle.load(f)\n",
    "    return data\n",
    "\n",
    "def check_key_number(data_dict: dict):\n",
    "    for k,v in data_dict.items():\n",
    "        print(k, v.edge_index.size(1))\n",
    "\n",
    "data_dict = read_data(filepath)\n",
    "# check_key_number(data_dict)\n",
    "\n",
    "original_edge_filepath = \"/remote-home/share/dmb_nas/wangzejian/HeterGAT/Twitter-Huangxin/sub10000/edges.data\"\n",
    "original_edges = read_data(original_edge_filepath)\n"
   ]
  },
  {
   "cell_type": "code",
   "execution_count": 2,
   "metadata": {},
   "outputs": [
    {
     "name": "stdout",
     "output_type": "stream",
     "text": [
      "Entertainment 2714525\n",
      "Entertainment 271452\n",
      "Entertainment 367456\n",
      "Health 10530165\n",
      "Health 1053016\n",
      "Health 1110975\n",
      "Academic_disciplines 815797\n",
      "Academic_disciplines 81579\n",
      "Academic_disciplines 186565\n",
      "Economy 2915998\n",
      "Economy 291599\n",
      "Economy 386468\n",
      "Society 18659019\n",
      "Society 1865901\n",
      "Society 1884335\n",
      "Food_and_drink 3003410\n",
      "Food_and_drink 300341\n",
      "Food_and_drink 394728\n",
      "Government 13379925\n",
      "Government 1337992\n",
      "Government 1382104\n",
      "Politics 17751704\n",
      "Politics 1775170\n",
      "Politics 1798027\n",
      "Technology 1358473\n",
      "Technology 135847\n",
      "Technology 238206\n",
      "Religion 6325708\n",
      "Religion 632570\n",
      "Religion 710994\n",
      "Human_behavior 1681086\n",
      "Human_behavior 168108\n",
      "Human_behavior 268932\n",
      "Mass_media 1993475\n",
      "Mass_media 199347\n",
      "Mass_media 298600\n",
      "Culture 3494326\n",
      "Culture 349432\n",
      "Culture 441478\n",
      "Law 4823822\n",
      "Law 482382\n",
      "Law 567946\n",
      "Military 3712202\n",
      "Military 371220\n",
      "Military 462260\n",
      "Business 4373028\n",
      "Business 437302\n",
      "Business 524998\n",
      "Information 1022333\n",
      "Information 102233\n",
      "Information 206043\n",
      "History 1328422\n",
      "History 132842\n",
      "History 235349\n",
      "Geography 916318\n",
      "Geography 91631\n",
      "Geography 196195\n",
      "People 829435\n",
      "People 82943\n",
      "People 187787\n"
     ]
    }
   ],
   "source": [
    "# down sample\n",
    "import random\n",
    "import torch\n",
    "from torch_geometric.data import Data\n",
    "\n",
    "def save_pickle(data, filepath):\n",
    "    with open(filepath, \"wb\") as f:\n",
    "        pickle.dump(data, f)\n",
    "\n",
    "user_size = 10269\n",
    "data_downsample = {}\n",
    "for k, v in data_dict.items():\n",
    "    all_edges = v.edge_index.t().tolist()\n",
    "    # print(len(all_edges))\n",
    "    all_edges = [(e[0], e[1]) for e in all_edges]\n",
    "    print(k, len(all_edges))\n",
    "\n",
    "    down_sample_edges = random.choices(all_edges, k=int(0.1*len(all_edges)))\n",
    "    print(k, len(down_sample_edges))\n",
    "\n",
    "    down_sample_edges = down_sample_edges + original_edges + [(u, u) for u in range(user_size)]\n",
    "    data_downsample[k] = list(set(down_sample_edges))\n",
    "    print(k, len(data_downsample[k]))\n",
    "    # break\n",
    "\n",
    "graph_d = {}\n",
    "for interest, edges in data_downsample.items():\n",
    "    edges = list(zip(*edges))\n",
    "    edges_t = torch.LongTensor(edges)\n",
    "    weight_t = torch.FloatTensor([1]*edges_t.size(1))\n",
    "    graph_d[interest] = Data(edge_index=edges_t, edge_weight=weight_t)\n",
    "\n",
    "save_pickle(graph_d, \"/remote-home/share/dmb_nas/wangzejian/HeterGAT/Twitter-Huangxin/sub10000/topic_llm_ppx/topic_diffusion_graph_downsample10_windowsize7.data\")"
   ]
  },
  {
   "cell_type": "code",
   "execution_count": 8,
   "metadata": {},
   "outputs": [
    {
     "data": {
      "text/plain": [
       "(10268, 10268)"
      ]
     },
     "execution_count": 8,
     "metadata": {},
     "output_type": "execute_result"
    }
   ],
   "source": [
    "down_sample_edges[-1]"
   ]
  },
  {
   "cell_type": "code",
   "execution_count": null,
   "metadata": {},
   "outputs": [],
   "source": [
    "'''\n",
    "llm2\n",
    "Health 1267173\n",
    "Military 741516\n",
    "Academic_disciplines 810242\n",
    "Politics 851052\n",
    "Nature 678217\n",
    "Law 940411\n",
    "Society 696965\n",
    "Economy 642396\n",
    "Science 314206\n",
    "Internet 432112\n",
    "Entertainment 460494\n",
    "Mass_media 389260\n",
    "Information 314436\n",
    "Philosophy 194290\n",
    "Food_and_drink 181737\n",
    "Education 248631\n",
    "Government 397679\n",
    "Business 154653\n",
    "Time 169355\n",
    "Religion 159944\n",
    "Technology 123242\n",
    "History 120474\n",
    "Sports 120557\n",
    "Human_behavior 120501\n",
    "Culture 120800\n",
    "'''"
   ]
  },
  {
   "cell_type": "code",
   "execution_count": null,
   "metadata": {},
   "outputs": [],
   "source": [
    "'''\n",
    "llm_ppx\n",
    "Entertainment 2714525\n",
    "Health 10530165\n",
    "Academic_disciplines 815797\n",
    "Economy 2915998\n",
    "Society 18659019\n",
    "Food_and_drink 3003410\n",
    "Government 13379925\n",
    "Politics 17751704\n",
    "Technology 1358473\n",
    "Religion 6325708\n",
    "Human_behavior 1681086\n",
    "Mass_media 1993475\n",
    "Culture 3494326\n",
    "Law 4823822\n",
    "Military 3712202\n",
    "Business 4373028\n",
    "Information 1022333\n",
    "History 1328422\n",
    "Geography 916318\n",
    "People 829435\n",
    "'''"
   ]
  }
 ],
 "metadata": {
  "kernelspec": {
   "display_name": "pyHeter-GAT-_-uOEIOh",
   "language": "python",
   "name": "python3"
  },
  "language_info": {
   "codemirror_mode": {
    "name": "ipython",
    "version": 3
   },
   "file_extension": ".py",
   "mimetype": "text/x-python",
   "name": "python",
   "nbconvert_exporter": "python",
   "pygments_lexer": "ipython3",
   "version": "3.8.18"
  }
 },
 "nbformat": 4,
 "nbformat_minor": 2
}
